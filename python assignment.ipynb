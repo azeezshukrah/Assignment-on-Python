{
 "cells": [
  {
   "cell_type": "code",
   "execution_count": 1,
   "metadata": {},
   "outputs": [],
   "source": [
    "Guest=['JayB', 'Jan', 'Shan', 'Dave', 'Rich'] ### Exercise 3-4\n",
    "Message=\"You're cordially invited to the dinner party organised by the Badejo family, your appearance will be highly recognised. Thank You.\""
   ]
  },
  {
   "cell_type": "code",
   "execution_count": 2,
   "metadata": {},
   "outputs": [
    {
     "name": "stdout",
     "output_type": "stream",
     "text": [
      "Dear Miss JayB, You're cordially invited to the dinner party organised by the Badejo family, your appearance will be highly recognised. Thank You.\n"
     ]
    }
   ],
   "source": [
    "print(\"Dear Miss \"+Guest[0]+\", \"+Message)"
   ]
  },
  {
   "cell_type": "code",
   "execution_count": 3,
   "metadata": {},
   "outputs": [
    {
     "name": "stdout",
     "output_type": "stream",
     "text": [
      "Dear Miss Jan, You're cordially invited to the dinner party organised by the Badejo family, your appearance will be highly recognised. Thank You.\n"
     ]
    }
   ],
   "source": [
    "print(\"Dear Miss \"+Guest[1]+\", \"+Message)"
   ]
  },
  {
   "cell_type": "code",
   "execution_count": 4,
   "metadata": {},
   "outputs": [
    {
     "name": "stdout",
     "output_type": "stream",
     "text": [
      "Dear Miss Shan, You're cordially invited to the dinner party organised by the Badejo family, your appearance will be highly recognised. Thank You.\n"
     ]
    }
   ],
   "source": [
    "print(\"Dear Miss \"+Guest[2]+\", \"+Message)"
   ]
  },
  {
   "cell_type": "code",
   "execution_count": 8,
   "metadata": {},
   "outputs": [
    {
     "name": "stdout",
     "output_type": "stream",
     "text": [
      "Dear Mr. Dave, You're cordially invited to the dinner party organised by the Badejo family, your appearance will be highly recognised. Thank You.\n"
     ]
    }
   ],
   "source": [
    "print(\"Dear Mr. \"+Guest[3]+\", \"+Message)"
   ]
  },
  {
   "cell_type": "code",
   "execution_count": 6,
   "metadata": {},
   "outputs": [
    {
     "name": "stdout",
     "output_type": "stream",
     "text": [
      "Dear Mr. Rich, You're cordially invited to the dinner party organised by the Badejo family, your appearance will be highly recognised. Thank You.\n"
     ]
    }
   ],
   "source": [
    "print(\"Dear Mr. \"+Guest[4]+\", \"+Message)"
   ]
  },
  {
   "cell_type": "code",
   "execution_count": 7,
   "metadata": {},
   "outputs": [
    {
     "data": {
      "text/plain": [
       "['JayB', 'Jan', 'Shan', 'Dave', 'Rich']"
      ]
     },
     "execution_count": 7,
     "metadata": {},
     "output_type": "execute_result"
    }
   ],
   "source": [
    "Guest"
   ]
  },
  {
   "cell_type": "code",
   "execution_count": 9,
   "metadata": {},
   "outputs": [
    {
     "name": "stdout",
     "output_type": "stream",
     "text": [
      "Due to personal reasons, Mr. Rich won't be able to make it to the dinner party.\n"
     ]
    }
   ],
   "source": [
    "guest=Guest.pop(4) ### Exercise 3-5\n",
    "print(\"Due to personal reasons, Mr. \"+guest+\" won't be able to make it to the dinner party.\")"
   ]
  },
  {
   "cell_type": "code",
   "execution_count": 10,
   "metadata": {},
   "outputs": [],
   "source": [
    "Guest.append('Bash')"
   ]
  },
  {
   "cell_type": "code",
   "execution_count": 11,
   "metadata": {},
   "outputs": [
    {
     "data": {
      "text/plain": [
       "['JayB', 'Jan', 'Shan', 'Dave', 'Bash']"
      ]
     },
     "execution_count": 11,
     "metadata": {},
     "output_type": "execute_result"
    }
   ],
   "source": [
    "Guest"
   ]
  },
  {
   "cell_type": "code",
   "execution_count": 12,
   "metadata": {},
   "outputs": [
    {
     "name": "stdout",
     "output_type": "stream",
     "text": [
      "Dear Miss JayB, You're cordially invited to the dinner party organised by the Badejo family, your appearance will be highly recognised. Thank You.\n"
     ]
    }
   ],
   "source": [
    "print(\"Dear Miss \"+Guest[0]+\", \"+Message)"
   ]
  },
  {
   "cell_type": "code",
   "execution_count": 13,
   "metadata": {},
   "outputs": [
    {
     "name": "stdout",
     "output_type": "stream",
     "text": [
      "Dear Miss Jan, You're cordially invited to the dinner party organised by the Badejo family, your appearance will be highly recognised. Thank You.\n"
     ]
    }
   ],
   "source": [
    "print(\"Dear Miss \"+Guest[1]+\", \"+Message)"
   ]
  },
  {
   "cell_type": "code",
   "execution_count": 14,
   "metadata": {},
   "outputs": [
    {
     "name": "stdout",
     "output_type": "stream",
     "text": [
      "Dear Miss Shan, You're cordially invited to the dinner party organised by the Badejo family, your appearance will be highly recognised. Thank You.\n"
     ]
    }
   ],
   "source": [
    "print(\"Dear Miss \"+Guest[2]+\", \"+Message)"
   ]
  },
  {
   "cell_type": "code",
   "execution_count": 15,
   "metadata": {},
   "outputs": [
    {
     "name": "stdout",
     "output_type": "stream",
     "text": [
      "Dear Mr. Dave, You're cordially invited to the dinner party organised by the Badejo family, your appearance will be highly recognised. Thank You.\n"
     ]
    }
   ],
   "source": [
    "print(\"Dear Mr. \"+Guest[3]+\", \"+Message)"
   ]
  },
  {
   "cell_type": "code",
   "execution_count": 16,
   "metadata": {},
   "outputs": [
    {
     "name": "stdout",
     "output_type": "stream",
     "text": [
      "Dear Mr. Bash, You're cordially invited to the dinner party organised by the Badejo family, your appearance will be highly recognised. Thank You.\n"
     ]
    }
   ],
   "source": [
    "print(\"Dear Mr. \"+Guest[4]+\", \"+Message)"
   ]
  },
  {
   "cell_type": "code",
   "execution_count": 19,
   "metadata": {},
   "outputs": [],
   "source": [
    "Guest=['JayB', 'Jan', 'Shan', 'Dave', 'Bash'] ### Exercise 3-6\n",
    "Message=\", you're cordially invited to the dinner party organised by the Badejo family, your appearance will be highly recognised. Thank You.\"\n",
    "Invite=\", we're happy to inform you that we found a bigger dinner table, so now more space is available and we'll like to invite more guests.\""
   ]
  },
  {
   "cell_type": "code",
   "execution_count": 20,
   "metadata": {},
   "outputs": [
    {
     "name": "stdout",
     "output_type": "stream",
     "text": [
      "Dear Miss JayB, we're happy to inform you that we found a bigger dinner table, so now more space is available and we'll like to invite more guests.\n"
     ]
    }
   ],
   "source": [
    "print(\"Dear Miss \"+Guest[0]+Invite)"
   ]
  },
  {
   "cell_type": "code",
   "execution_count": 21,
   "metadata": {},
   "outputs": [
    {
     "name": "stdout",
     "output_type": "stream",
     "text": [
      "Dear Miss Jan, we're happy to inform you that we found a bigger dinner table, so now more space is available and we'll like to invite more guests.\n"
     ]
    }
   ],
   "source": [
    "print(\"Dear Miss \"+Guest[1]+Invite)"
   ]
  },
  {
   "cell_type": "code",
   "execution_count": 22,
   "metadata": {},
   "outputs": [
    {
     "name": "stdout",
     "output_type": "stream",
     "text": [
      "Dear Miss Shan, we're happy to inform you that we found a bigger dinner table, so now more space is available and we'll like to invite more guests.\n"
     ]
    }
   ],
   "source": [
    "print(\"Dear Miss \"+Guest[2]+Invite)"
   ]
  },
  {
   "cell_type": "code",
   "execution_count": 23,
   "metadata": {},
   "outputs": [
    {
     "name": "stdout",
     "output_type": "stream",
     "text": [
      "Dear Mr. Dave, we're happy to inform you that we found a bigger dinner table, so now more space is available and we'll like to invite more guests.\n"
     ]
    }
   ],
   "source": [
    "print(\"Dear Mr. \"+Guest[3]+Invite)"
   ]
  },
  {
   "cell_type": "code",
   "execution_count": 24,
   "metadata": {},
   "outputs": [
    {
     "name": "stdout",
     "output_type": "stream",
     "text": [
      "Dear Mr. Bash, we're happy to inform you that we found a bigger dinner table, so now more space is available and we'll like to invite more guests.\n"
     ]
    }
   ],
   "source": [
    "print(\"Dear Mr. \"+Guest[4]+Invite)"
   ]
  },
  {
   "cell_type": "code",
   "execution_count": 25,
   "metadata": {},
   "outputs": [],
   "source": [
    "Guest.insert(0, 'Harry')"
   ]
  },
  {
   "cell_type": "code",
   "execution_count": 26,
   "metadata": {},
   "outputs": [],
   "source": [
    "Guest.insert(3, 'Alex')"
   ]
  },
  {
   "cell_type": "code",
   "execution_count": 27,
   "metadata": {},
   "outputs": [],
   "source": [
    "Guest.append('Precious')"
   ]
  },
  {
   "cell_type": "code",
   "execution_count": 28,
   "metadata": {},
   "outputs": [
    {
     "data": {
      "text/plain": [
       "['Harry', 'JayB', 'Jan', 'Alex', 'Shan', 'Dave', 'Bash', 'Precious']"
      ]
     },
     "execution_count": 28,
     "metadata": {},
     "output_type": "execute_result"
    }
   ],
   "source": [
    "Guest"
   ]
  },
  {
   "cell_type": "code",
   "execution_count": 29,
   "metadata": {},
   "outputs": [
    {
     "name": "stdout",
     "output_type": "stream",
     "text": [
      "Dear Mr. Harry, you're cordially invited to the dinner party organised by the Badejo family, your appearance will be highly recognised. Thank You.\n"
     ]
    }
   ],
   "source": [
    "print(\"Dear Mr. \"+Guest[0]+Message)"
   ]
  },
  {
   "cell_type": "code",
   "execution_count": 30,
   "metadata": {},
   "outputs": [
    {
     "name": "stdout",
     "output_type": "stream",
     "text": [
      "Dear Miss JayB, you're cordially invited to the dinner party organised by the Badejo family, your appearance will be highly recognised. Thank You.\n"
     ]
    }
   ],
   "source": [
    "print(\"Dear Miss \"+Guest[1]+Message)"
   ]
  },
  {
   "cell_type": "code",
   "execution_count": 31,
   "metadata": {},
   "outputs": [
    {
     "name": "stdout",
     "output_type": "stream",
     "text": [
      "Dear Miss Jan, you're cordially invited to the dinner party organised by the Badejo family, your appearance will be highly recognised. Thank You.\n"
     ]
    }
   ],
   "source": [
    "print(\"Dear Miss \"+Guest[2]+Message)"
   ]
  },
  {
   "cell_type": "code",
   "execution_count": 32,
   "metadata": {},
   "outputs": [
    {
     "name": "stdout",
     "output_type": "stream",
     "text": [
      "Dear Miss Alex, you're cordially invited to the dinner party organised by the Badejo family, your appearance will be highly recognised. Thank You.\n"
     ]
    }
   ],
   "source": [
    "print(\"Dear Miss \"+Guest[3]+Message)"
   ]
  },
  {
   "cell_type": "code",
   "execution_count": 33,
   "metadata": {},
   "outputs": [
    {
     "name": "stdout",
     "output_type": "stream",
     "text": [
      "Dear Miss Shan, you're cordially invited to the dinner party organised by the Badejo family, your appearance will be highly recognised. Thank You.\n"
     ]
    }
   ],
   "source": [
    "print(\"Dear Miss \"+Guest[4]+Message)"
   ]
  },
  {
   "cell_type": "code",
   "execution_count": 34,
   "metadata": {},
   "outputs": [
    {
     "name": "stdout",
     "output_type": "stream",
     "text": [
      "Dear Mr. Dave, you're cordially invited to the dinner party organised by the Badejo family, your appearance will be highly recognised. Thank You.\n"
     ]
    }
   ],
   "source": [
    "print(\"Dear Mr. \"+Guest[5]+Message)"
   ]
  },
  {
   "cell_type": "code",
   "execution_count": 35,
   "metadata": {},
   "outputs": [
    {
     "name": "stdout",
     "output_type": "stream",
     "text": [
      "Dear Mr. Bash, you're cordially invited to the dinner party organised by the Badejo family, your appearance will be highly recognised. Thank You.\n"
     ]
    }
   ],
   "source": [
    "print(\"Dear Mr. \"+Guest[6]+Message)"
   ]
  },
  {
   "cell_type": "code",
   "execution_count": 36,
   "metadata": {},
   "outputs": [
    {
     "name": "stdout",
     "output_type": "stream",
     "text": [
      "Dear Miss Precious, you're cordially invited to the dinner party organised by the Badejo family, your appearance will be highly recognised. Thank You.\n"
     ]
    }
   ],
   "source": [
    "print(\"Dear Miss \"+Guest[7]+Message)"
   ]
  },
  {
   "cell_type": "code",
   "execution_count": 37,
   "metadata": {},
   "outputs": [],
   "source": [
    "Guest=['Harry', 'JayB', 'Jan', 'Alex', 'Shan', 'Dave', 'Bash', 'Precious'] ### Exercise 3-6\n",
    "Invite=\", you're cordially invited to the dinner party organised by the Badejo family, your appearance will be highly recognised. Thank You.\"\n",
    "Message=\", we're sorry to inform you that the dinner table won't arrive in time for the dinner, so there's space for only two guests.\""
   ]
  },
  {
   "cell_type": "code",
   "execution_count": 38,
   "metadata": {},
   "outputs": [],
   "source": [
    "guest=Guest.pop()\n",
    "print=(\"Dear Miss \"+guest+Message)"
   ]
  },
  {
   "cell_type": "code",
   "execution_count": 39,
   "metadata": {},
   "outputs": [],
   "source": [
    "print=(\"Dear Miss \"+guest+Message)"
   ]
  },
  {
   "cell_type": "code",
   "execution_count": 40,
   "metadata": {},
   "outputs": [
    {
     "ename": "TypeError",
     "evalue": "'str' object is not callable",
     "output_type": "error",
     "traceback": [
      "\u001b[1;31m---------------------------------------------------------------------------\u001b[0m",
      "\u001b[1;31mTypeError\u001b[0m                                 Traceback (most recent call last)",
      "\u001b[1;32m<ipython-input-40-bfad1953a53e>\u001b[0m in \u001b[0;36m<module>\u001b[1;34m\u001b[0m\n\u001b[1;32m----> 1\u001b[1;33m \u001b[0mprint\u001b[0m\u001b[1;33m(\u001b[0m\u001b[1;34m\"Dear Miss \"\u001b[0m\u001b[1;33m+\u001b[0m\u001b[0mguest\u001b[0m\u001b[1;33m+\u001b[0m\u001b[0mMessage\u001b[0m\u001b[1;33m)\u001b[0m\u001b[1;33m\u001b[0m\u001b[1;33m\u001b[0m\u001b[0m\n\u001b[0m",
      "\u001b[1;31mTypeError\u001b[0m: 'str' object is not callable"
     ]
    }
   ],
   "source": [
    "print(\"Dear Miss \"+guest+Message)"
   ]
  },
  {
   "cell_type": "code",
   "execution_count": 41,
   "metadata": {},
   "outputs": [],
   "source": [
    "guest=Guest.pop()"
   ]
  },
  {
   "cell_type": "code",
   "execution_count": 42,
   "metadata": {},
   "outputs": [
    {
     "data": {
      "text/plain": [
       "'Dave'"
      ]
     },
     "execution_count": 42,
     "metadata": {},
     "output_type": "execute_result"
    }
   ],
   "source": [
    "guest"
   ]
  },
  {
   "cell_type": "code",
   "execution_count": 43,
   "metadata": {},
   "outputs": [
    {
     "ename": "TypeError",
     "evalue": "'str' object is not callable",
     "output_type": "error",
     "traceback": [
      "\u001b[1;31m---------------------------------------------------------------------------\u001b[0m",
      "\u001b[1;31mTypeError\u001b[0m                                 Traceback (most recent call last)",
      "\u001b[1;32m<ipython-input-43-43de363a8fba>\u001b[0m in \u001b[0;36m<module>\u001b[1;34m\u001b[0m\n\u001b[1;32m----> 1\u001b[1;33m \u001b[0mprint\u001b[0m\u001b[1;33m(\u001b[0m\u001b[1;34m\"Dear Mr. \"\u001b[0m\u001b[1;33m+\u001b[0m\u001b[0mguest\u001b[0m\u001b[1;33m+\u001b[0m\u001b[0mMessage\u001b[0m\u001b[1;33m)\u001b[0m\u001b[1;33m\u001b[0m\u001b[1;33m\u001b[0m\u001b[0m\n\u001b[0m",
      "\u001b[1;31mTypeError\u001b[0m: 'str' object is not callable"
     ]
    }
   ],
   "source": [
    "print(\"Dear Mr. \"+guest+Message)"
   ]
  },
  {
   "cell_type": "code",
   "execution_count": 44,
   "metadata": {},
   "outputs": [],
   "source": [
    "guest=Guest.pop()"
   ]
  },
  {
   "cell_type": "code",
   "execution_count": 45,
   "metadata": {},
   "outputs": [
    {
     "data": {
      "text/plain": [
       "'Shan'"
      ]
     },
     "execution_count": 45,
     "metadata": {},
     "output_type": "execute_result"
    }
   ],
   "source": [
    "guest"
   ]
  },
  {
   "cell_type": "code",
   "execution_count": 46,
   "metadata": {},
   "outputs": [
    {
     "ename": "TypeError",
     "evalue": "'str' object is not callable",
     "output_type": "error",
     "traceback": [
      "\u001b[1;31m---------------------------------------------------------------------------\u001b[0m",
      "\u001b[1;31mTypeError\u001b[0m                                 Traceback (most recent call last)",
      "\u001b[1;32m<ipython-input-46-bfad1953a53e>\u001b[0m in \u001b[0;36m<module>\u001b[1;34m\u001b[0m\n\u001b[1;32m----> 1\u001b[1;33m \u001b[0mprint\u001b[0m\u001b[1;33m(\u001b[0m\u001b[1;34m\"Dear Miss \"\u001b[0m\u001b[1;33m+\u001b[0m\u001b[0mguest\u001b[0m\u001b[1;33m+\u001b[0m\u001b[0mMessage\u001b[0m\u001b[1;33m)\u001b[0m\u001b[1;33m\u001b[0m\u001b[1;33m\u001b[0m\u001b[0m\n\u001b[0m",
      "\u001b[1;31mTypeError\u001b[0m: 'str' object is not callable"
     ]
    }
   ],
   "source": [
    "print(\"Dear Miss \"+guest+Message)"
   ]
  },
  {
   "cell_type": "code",
   "execution_count": 47,
   "metadata": {},
   "outputs": [
    {
     "data": {
      "text/plain": [
       "['JayB', 'Jan']"
      ]
     },
     "execution_count": 47,
     "metadata": {},
     "output_type": "execute_result"
    }
   ],
   "source": [
    "Guest"
   ]
  },
  {
   "cell_type": "code",
   "execution_count": 48,
   "metadata": {},
   "outputs": [],
   "source": [
    "Guest=['JayB', 'Jan', 'Shan', 'Dave', 'Bash']"
   ]
  },
  {
   "cell_type": "code",
   "execution_count": 49,
   "metadata": {},
   "outputs": [],
   "source": [
    "guest=Guest.pop()"
   ]
  },
  {
   "cell_type": "code",
   "execution_count": 50,
   "metadata": {},
   "outputs": [
    {
     "data": {
      "text/plain": [
       "'Bash'"
      ]
     },
     "execution_count": 50,
     "metadata": {},
     "output_type": "execute_result"
    }
   ],
   "source": [
    "guest"
   ]
  },
  {
   "cell_type": "code",
   "execution_count": 51,
   "metadata": {},
   "outputs": [],
   "source": [
    "Guest=['Harry', 'JayB', 'Jan', 'Alex', 'Shan', 'Dave', 'Bash', 'Precious'] ### Exercise 3-6\n",
    "Invite=\", you're cordially invited to the dinner party organised by the Badejo family, your appearance will be highly recognised. Thank You.\"\n",
    "Message=\", we're sorry to inform you that the dinner table won't arrive in time for the dinner, so there's space for only two guests.\""
   ]
  },
  {
   "cell_type": "code",
   "execution_count": 52,
   "metadata": {},
   "outputs": [
    {
     "data": {
      "text/plain": [
       "['Harry', 'JayB', 'Jan', 'Alex', 'Shan', 'Dave', 'Bash', 'Precious']"
      ]
     },
     "execution_count": 52,
     "metadata": {},
     "output_type": "execute_result"
    }
   ],
   "source": [
    "Guest"
   ]
  },
  {
   "cell_type": "code",
   "execution_count": 53,
   "metadata": {},
   "outputs": [],
   "source": [
    "guest=Guest.pop()"
   ]
  },
  {
   "cell_type": "code",
   "execution_count": 54,
   "metadata": {},
   "outputs": [
    {
     "data": {
      "text/plain": [
       "'Precious'"
      ]
     },
     "execution_count": 54,
     "metadata": {},
     "output_type": "execute_result"
    }
   ],
   "source": [
    "guest"
   ]
  },
  {
   "cell_type": "code",
   "execution_count": 55,
   "metadata": {},
   "outputs": [
    {
     "data": {
      "text/plain": [
       "\", we're sorry to inform you that the dinner table won't arrive in time for the dinner, so there's space for only two guests.\""
      ]
     },
     "execution_count": 55,
     "metadata": {},
     "output_type": "execute_result"
    }
   ],
   "source": [
    "Message"
   ]
  },
  {
   "cell_type": "code",
   "execution_count": 58,
   "metadata": {},
   "outputs": [
    {
     "ename": "TypeError",
     "evalue": "'str' object is not callable",
     "output_type": "error",
     "traceback": [
      "\u001b[1;31m---------------------------------------------------------------------------\u001b[0m",
      "\u001b[1;31mTypeError\u001b[0m                                 Traceback (most recent call last)",
      "\u001b[1;32m<ipython-input-58-bfad1953a53e>\u001b[0m in \u001b[0;36m<module>\u001b[1;34m\u001b[0m\n\u001b[1;32m----> 1\u001b[1;33m \u001b[0mprint\u001b[0m\u001b[1;33m(\u001b[0m\u001b[1;34m\"Dear Miss \"\u001b[0m\u001b[1;33m+\u001b[0m\u001b[0mguest\u001b[0m\u001b[1;33m+\u001b[0m\u001b[0mMessage\u001b[0m\u001b[1;33m)\u001b[0m\u001b[1;33m\u001b[0m\u001b[1;33m\u001b[0m\u001b[0m\n\u001b[0m",
      "\u001b[1;31mTypeError\u001b[0m: 'str' object is not callable"
     ]
    }
   ],
   "source": [
    "print(\"Dear Miss \"+guest+Message)"
   ]
  },
  {
   "cell_type": "code",
   "execution_count": 59,
   "metadata": {},
   "outputs": [
    {
     "data": {
      "text/plain": [
       "['Harry', 'JayB', 'Jan', 'Alex', 'Shan', 'Dave', 'Bash']"
      ]
     },
     "execution_count": 59,
     "metadata": {},
     "output_type": "execute_result"
    }
   ],
   "source": [
    "Guest"
   ]
  },
  {
   "cell_type": "code",
   "execution_count": 60,
   "metadata": {},
   "outputs": [],
   "source": [
    "guest_1=Guest.pop()"
   ]
  },
  {
   "cell_type": "code",
   "execution_count": 61,
   "metadata": {},
   "outputs": [
    {
     "data": {
      "text/plain": [
       "'Bash'"
      ]
     },
     "execution_count": 61,
     "metadata": {},
     "output_type": "execute_result"
    }
   ],
   "source": [
    "guest_1"
   ]
  },
  {
   "cell_type": "code",
   "execution_count": 62,
   "metadata": {},
   "outputs": [
    {
     "ename": "TypeError",
     "evalue": "'str' object is not callable",
     "output_type": "error",
     "traceback": [
      "\u001b[1;31m---------------------------------------------------------------------------\u001b[0m",
      "\u001b[1;31mTypeError\u001b[0m                                 Traceback (most recent call last)",
      "\u001b[1;32m<ipython-input-62-b527301a9b21>\u001b[0m in \u001b[0;36m<module>\u001b[1;34m\u001b[0m\n\u001b[1;32m----> 1\u001b[1;33m \u001b[0mprint\u001b[0m\u001b[1;33m(\u001b[0m\u001b[1;34m\"Dear Mr. \"\u001b[0m\u001b[1;33m+\u001b[0m\u001b[0mguest_1\u001b[0m\u001b[1;33m+\u001b[0m\u001b[0mMessage\u001b[0m\u001b[1;33m)\u001b[0m\u001b[1;33m\u001b[0m\u001b[1;33m\u001b[0m\u001b[0m\n\u001b[0m",
      "\u001b[1;31mTypeError\u001b[0m: 'str' object is not callable"
     ]
    }
   ],
   "source": [
    "print(\"Dear Mr. \"+guest_1+Message) ###I tried the code on another notebook and it responded"
   ]
  },
  {
   "cell_type": "code",
   "execution_count": 1,
   "metadata": {},
   "outputs": [],
   "source": [
    "Guest=['Harry', 'JayB', 'Jan', 'Alex', 'Shan', 'Dave', 'Bash', 'Precious'] ### Exercise 3-6\n",
    "Invite=\", you're cordially invited to the dinner party organised by the Badejo family, your appearance will be highly recognised. Thank You.\"\n",
    "Message=\", we're sorry to inform you that the dinner table won't arrive in time for the dinner, so there's space for only two guests.\""
   ]
  },
  {
   "cell_type": "code",
   "execution_count": 2,
   "metadata": {},
   "outputs": [],
   "source": [
    "guest=Guest.pop()"
   ]
  },
  {
   "cell_type": "code",
   "execution_count": 3,
   "metadata": {},
   "outputs": [
    {
     "data": {
      "text/plain": [
       "'Precious'"
      ]
     },
     "execution_count": 3,
     "metadata": {},
     "output_type": "execute_result"
    }
   ],
   "source": [
    "guest"
   ]
  },
  {
   "cell_type": "code",
   "execution_count": 4,
   "metadata": {},
   "outputs": [
    {
     "data": {
      "text/plain": [
       "['Harry', 'JayB', 'Jan', 'Alex', 'Shan', 'Dave', 'Bash']"
      ]
     },
     "execution_count": 4,
     "metadata": {},
     "output_type": "execute_result"
    }
   ],
   "source": [
    "Guest"
   ]
  },
  {
   "cell_type": "code",
   "execution_count": 6,
   "metadata": {},
   "outputs": [
    {
     "name": "stdout",
     "output_type": "stream",
     "text": [
      "Dear Miss Precious, we're sorry to inform you that the dinner table won't arrive in time for the dinner, so there's space for only two guests.\n"
     ]
    }
   ],
   "source": [
    "print(\"Dear Miss \"+guest+Message)"
   ]
  },
  {
   "cell_type": "code",
   "execution_count": 7,
   "metadata": {},
   "outputs": [],
   "source": [
    "guest=Guest.pop()"
   ]
  },
  {
   "cell_type": "code",
   "execution_count": 8,
   "metadata": {},
   "outputs": [
    {
     "data": {
      "text/plain": [
       "'Bash'"
      ]
     },
     "execution_count": 8,
     "metadata": {},
     "output_type": "execute_result"
    }
   ],
   "source": [
    "guest"
   ]
  },
  {
   "cell_type": "code",
   "execution_count": 9,
   "metadata": {},
   "outputs": [
    {
     "name": "stdout",
     "output_type": "stream",
     "text": [
      "Dear Mr. Bash, we're sorry to inform you that the dinner table won't arrive in time for the dinner, so there's space for only two guests.\n"
     ]
    }
   ],
   "source": [
    "print(\"Dear Mr. \"+guest+Message)"
   ]
  },
  {
   "cell_type": "code",
   "execution_count": 10,
   "metadata": {},
   "outputs": [],
   "source": [
    "guest=Guest.pop()"
   ]
  },
  {
   "cell_type": "code",
   "execution_count": 11,
   "metadata": {},
   "outputs": [
    {
     "data": {
      "text/plain": [
       "'Dave'"
      ]
     },
     "execution_count": 11,
     "metadata": {},
     "output_type": "execute_result"
    }
   ],
   "source": [
    "guest"
   ]
  },
  {
   "cell_type": "code",
   "execution_count": 12,
   "metadata": {},
   "outputs": [
    {
     "name": "stdout",
     "output_type": "stream",
     "text": [
      "Dear Mr. Dave, we're sorry to inform you that the dinner table won't arrive in time for the dinner, so there's space for only two guests.\n"
     ]
    }
   ],
   "source": [
    "print(\"Dear Mr. \"+guest+Message)"
   ]
  },
  {
   "cell_type": "code",
   "execution_count": 13,
   "metadata": {},
   "outputs": [
    {
     "data": {
      "text/plain": [
       "['Harry', 'JayB', 'Jan', 'Alex', 'Shan']"
      ]
     },
     "execution_count": 13,
     "metadata": {},
     "output_type": "execute_result"
    }
   ],
   "source": [
    "Guest"
   ]
  },
  {
   "cell_type": "code",
   "execution_count": 14,
   "metadata": {},
   "outputs": [],
   "source": [
    "guest=Guest.pop()"
   ]
  },
  {
   "cell_type": "code",
   "execution_count": 15,
   "metadata": {},
   "outputs": [
    {
     "data": {
      "text/plain": [
       "'Shan'"
      ]
     },
     "execution_count": 15,
     "metadata": {},
     "output_type": "execute_result"
    }
   ],
   "source": [
    "guest"
   ]
  },
  {
   "cell_type": "code",
   "execution_count": 16,
   "metadata": {},
   "outputs": [
    {
     "name": "stdout",
     "output_type": "stream",
     "text": [
      "Dear Miss Shan, we're sorry to inform you that the dinner table won't arrive in time for the dinner, so there's space for only two guests.\n"
     ]
    }
   ],
   "source": [
    "print(\"Dear Miss \"+guest+Message)"
   ]
  },
  {
   "cell_type": "code",
   "execution_count": 17,
   "metadata": {},
   "outputs": [],
   "source": [
    "guest=Guest.pop()"
   ]
  },
  {
   "cell_type": "code",
   "execution_count": 18,
   "metadata": {},
   "outputs": [
    {
     "data": {
      "text/plain": [
       "'Alex'"
      ]
     },
     "execution_count": 18,
     "metadata": {},
     "output_type": "execute_result"
    }
   ],
   "source": [
    "guest"
   ]
  },
  {
   "cell_type": "code",
   "execution_count": 19,
   "metadata": {},
   "outputs": [
    {
     "name": "stdout",
     "output_type": "stream",
     "text": [
      "Dear Miss Alex, we're sorry to inform you that the dinner table won't arrive in time for the dinner, so there's space for only two guests.\n"
     ]
    }
   ],
   "source": [
    "print(\"Dear Miss \"+guest+Message)"
   ]
  },
  {
   "cell_type": "code",
   "execution_count": 20,
   "metadata": {},
   "outputs": [],
   "source": [
    "guest=Guest.pop()"
   ]
  },
  {
   "cell_type": "code",
   "execution_count": 21,
   "metadata": {},
   "outputs": [
    {
     "data": {
      "text/plain": [
       "'Jan'"
      ]
     },
     "execution_count": 21,
     "metadata": {},
     "output_type": "execute_result"
    }
   ],
   "source": [
    "guest"
   ]
  },
  {
   "cell_type": "code",
   "execution_count": 22,
   "metadata": {},
   "outputs": [
    {
     "name": "stdout",
     "output_type": "stream",
     "text": [
      "Dear Miss Jan, we're sorry to inform you that the dinner table won't arrive in time for the dinner, so there's space for only two guests.\n"
     ]
    }
   ],
   "source": [
    "print(\"Dear Miss \"+guest+Message)"
   ]
  },
  {
   "cell_type": "code",
   "execution_count": 23,
   "metadata": {},
   "outputs": [
    {
     "data": {
      "text/plain": [
       "['Harry', 'JayB']"
      ]
     },
     "execution_count": 23,
     "metadata": {},
     "output_type": "execute_result"
    }
   ],
   "source": [
    "Guest"
   ]
  },
  {
   "cell_type": "code",
   "execution_count": 25,
   "metadata": {},
   "outputs": [
    {
     "name": "stdout",
     "output_type": "stream",
     "text": [
      "Dear Mr. Harry, you're cordially invited to the dinner party organised by the Badejo family, your appearance will be highly recognised. Thank You.\n"
     ]
    }
   ],
   "source": [
    "print(\"Dear Mr. \"+Guest[0]+Invite)"
   ]
  },
  {
   "cell_type": "code",
   "execution_count": 26,
   "metadata": {},
   "outputs": [
    {
     "name": "stdout",
     "output_type": "stream",
     "text": [
      "Dear Miss JayB, you're cordially invited to the dinner party organised by the Badejo family, your appearance will be highly recognised. Thank You.\n"
     ]
    }
   ],
   "source": [
    "print(\"Dear Miss \"+Guest[1]+Invite)"
   ]
  },
  {
   "cell_type": "code",
   "execution_count": 27,
   "metadata": {},
   "outputs": [],
   "source": [
    "del Guest[0]"
   ]
  },
  {
   "cell_type": "code",
   "execution_count": 28,
   "metadata": {},
   "outputs": [
    {
     "data": {
      "text/plain": [
       "['JayB']"
      ]
     },
     "execution_count": 28,
     "metadata": {},
     "output_type": "execute_result"
    }
   ],
   "source": [
    "Guest"
   ]
  },
  {
   "cell_type": "code",
   "execution_count": 30,
   "metadata": {},
   "outputs": [],
   "source": [
    "del Guest[0]"
   ]
  },
  {
   "cell_type": "code",
   "execution_count": 31,
   "metadata": {},
   "outputs": [
    {
     "data": {
      "text/plain": [
       "[]"
      ]
     },
     "execution_count": 31,
     "metadata": {},
     "output_type": "execute_result"
    }
   ],
   "source": [
    "Guest"
   ]
  },
  {
   "cell_type": "code",
   "execution_count": null,
   "metadata": {},
   "outputs": [],
   "source": []
  }
 ],
 "metadata": {
  "kernelspec": {
   "display_name": "Python 3",
   "language": "python",
   "name": "python3"
  },
  "language_info": {
   "codemirror_mode": {
    "name": "ipython",
    "version": 3
   },
   "file_extension": ".py",
   "mimetype": "text/x-python",
   "name": "python",
   "nbconvert_exporter": "python",
   "pygments_lexer": "ipython3",
   "version": "3.7.4"
  }
 },
 "nbformat": 4,
 "nbformat_minor": 2
}
